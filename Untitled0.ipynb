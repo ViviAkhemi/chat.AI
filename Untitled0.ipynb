{
  "nbformat": 4,
  "nbformat_minor": 0,
  "metadata": {
    "colab": {
      "provenance": [],
      "authorship_tag": "ABX9TyNadftx47HrFBCMAyqgUlQr",
      "include_colab_link": true
    },
    "kernelspec": {
      "name": "python3",
      "display_name": "Python 3"
    },
    "language_info": {
      "name": "python"
    }
  },
  "cells": [
    {
      "cell_type": "markdown",
      "metadata": {
        "id": "view-in-github",
        "colab_type": "text"
      },
      "source": [
        "<a href=\"https://colab.research.google.com/github/ViviAkhemi/chat.AI/blob/main/Untitled0.ipynb\" target=\"_parent\"><img src=\"https://colab.research.google.com/assets/colab-badge.svg\" alt=\"Open In Colab\"/></a>"
      ]
    },
    {
      "cell_type": "code",
      "execution_count": 1,
      "metadata": {
        "id": "bVpuA7oEAtJP"
      },
      "outputs": [],
      "source": [
        "!pip install -q -U google-generativeai"
      ]
    },
    {
      "cell_type": "code",
      "source": [],
      "metadata": {
        "id": "eAnUuk0dUN6S"
      },
      "execution_count": null,
      "outputs": []
    },
    {
      "cell_type": "markdown",
      "source": [],
      "metadata": {
        "id": "ozwePw-kUNYA"
      }
    },
    {
      "cell_type": "markdown",
      "source": [],
      "metadata": {
        "id": "3YCxSJqZUNEf"
      }
    },
    {
      "cell_type": "markdown",
      "source": [
        "Instalando o SDK do Google"
      ],
      "metadata": {
        "id": "9t6UAWPON0l7"
      }
    },
    {
      "cell_type": "code",
      "source": [
        "# Import the Python SDK\n",
        "import google.generativeai as genai\n",
        "\n",
        from google.colab import userdata
        api_key = userdata.get('SECRETA_CHAVE')
        GOOGLE_API_KEY=('SECRETA_CHAVE')
        "genai.configure(api_key=api_key)"
      ],
      "metadata": {
        "id": "E3vb6TEkN7bJ"
      },
      "execution_count": 2,
      "outputs": []
    },
    {
      "cell_type": "markdown",
      "source": [
        "Listar os modelos disponíveis"
      ],
      "metadata": {
        "id": "MxwzqPMGOeIb"
      }
    },
    {
      "cell_type": "code",
      "source": [],
      "metadata": {
        "id": "KEWQgyXbYQtZ"
      },
      "execution_count": null,
      "outputs": []
    },
    {
      "cell_type": "code",
      "source": [
        "for m in genai.list_models():\n",
        "  if 'generateContent' in m.supported_generation_methods:\n",
        "   print(m.name)"
      ],
      "metadata": {
        "colab": {
          "base_uri": "https://localhost:8080/",
          "height": 139
        },
        "id": "Br8TYbQkOalr",
        "outputId": "fb22f900-c9e8-4721-ae65-36988068546c"
      },
      "execution_count": 3,
      "outputs": [
        {
          "output_type": "stream",
          "name": "stdout",
          "text": [
            "models/gemini-1.0-pro\n",
            "models/gemini-1.0-pro-001\n",
            "models/gemini-1.0-pro-latest\n",
            "models/gemini-1.0-pro-vision-latest\n",
            "models/gemini-1.5-pro-latest\n",
            "models/gemini-pro\n",
            "models/gemini-pro-vision\n"
          ]
        }
      ]
    },
    {
      "cell_type": "markdown",
      "source": [
        "models/gemini-1.0-pro-001 (experimental)"
      ],
      "metadata": {
        "id": "C2bjuTm1aYh8"
      }
    },
    {
      "cell_type": "code",
      "source": [
        "generation_config = {\n",
        "    \"candidate_count\": 1,\n",
        "    \"temperature\": 0.5,\n",
        "}"
      ],
      "metadata": {
        "id": "xgiqKgdmYZOa"
      },
      "execution_count": 4,
      "outputs": []
    },
    {
      "cell_type": "code",
      "source": [
        "safety_settings = {\n",
        "    \"HARASSMENT\": \"BLOCK_NONE\",\n",
        "    \"HATE\": \"BLOCK_NONE\",\n",
        "    \"SEXUAL\": \"BLOCK_NONE\",\n",
        "    \"DANGEROUS\": \"BLOCK_NONE\",\n",
        "}"
      ],
      "metadata": {
        "id": "8QGjP53gZDJW"
      },
      "execution_count": 7,
      "outputs": []
    },
    {
      "cell_type": "markdown",
      "source": [
        "Inicializando o modelo"
      ],
      "metadata": {
        "id": "o3P-_VEYaC_h"
      }
    },
    {
      "cell_type": "code",
      "source": [
        "model = genai.GenerativeModel(model_name=\"gemini-1.0-pro\",\n",
        "                              generation_config=generation_config,\n",
        "                              safety_settings=safety_settings)"
      ],
      "metadata": {
        "id": "vPFJdE1oaI1Y"
      },
      "execution_count": 8,
      "outputs": []
    },
    {
      "cell_type": "code",
      "source": [
        "response = model.generate_content(\"Vamos aprender conteúdo sobre AI Dê-me sugestões.\")\n",
        "print(response.text)"
      ],
      "metadata": {
        "colab": {
          "base_uri": "https://localhost:8080/",
          "height": 885
        },
        "id": "ldrErSapbjQ1",
        "outputId": "ce254123-34f6-4cb9-dc5f-6745b0207e21"
      },
      "execution_count": 9,
      "outputs": [
        {
          "output_type": "stream",
          "name": "stdout",
          "text": [
            "**Introdução à Inteligência Artificial (IA)**\n",
            "\n",
            "* Definição e conceitos básicos de IA\n",
            "* Tipos de IA: aprendizado de máquina, aprendizado profundo, aprendizado por reforço\n",
            "* Aplicações da IA em vários setores\n",
            "\n",
            "**Aprendizado de Máquina (ML)**\n",
            "\n",
            "* Conceitos fundamentais de ML: dados, modelos, treinamento\n",
            "* Algoritmos de ML: regressão, classificação, agrupamento\n",
            "* Técnicas de avaliação e otimização de modelos de ML\n",
            "\n",
            "**Aprendizado Profundo (DL)**\n",
            "\n",
            "* Redes neurais: arquitetura e funcionamento\n",
            "* Tipos de redes neurais: convolucionais, recorrentes\n",
            "* Aplicações de DL: reconhecimento de imagem, processamento de linguagem natural\n",
            "\n",
            "**Aprendizado por Reforço (RL)**\n",
            "\n",
            "* Conceitos de RL: agentes, ambientes, recompensas\n",
            "* Algoritmos de RL: Q-learning, SARSA\n",
            "* Aplicações de RL: jogos, robótica\n",
            "\n",
            "**Ética e Implicações Sociais da IA**\n",
            "\n",
            "* Viés e discriminação em sistemas de IA\n",
            "* Privacidade e segurança de dados\n",
            "* Impacto no emprego e na sociedade\n",
            "\n",
            "**Ferramentas e Tecnologias para IA**\n",
            "\n",
            "* Linguagens de programação para IA: Python, R\n",
            "* Bibliotecas de IA: TensorFlow, PyTorch, Keras\n",
            "* Ferramentas de desenvolvimento de IA: Jupyter Notebook, Google Colab\n",
            "\n",
            "**Aplicações Práticas da IA**\n",
            "\n",
            "* Reconhecimento de fala e imagem\n",
            "* Processamento de linguagem natural\n",
            "* Veículos autônomos\n",
            "* Diagnóstico médico\n",
            "* Automação de processos\n",
            "\n",
            "**Tendências e Avanços Futuros em IA**\n",
            "\n",
            "* Inteligência Artificial Geral (AGI)\n",
            "* Aprendizado federado\n",
            "* IA Explicável (XAI)\n",
            "* IA Quântica\n"
          ]
        }
      ]
    },
    {
      "cell_type": "code",
      "source": [
        "chat = model.start_chat(history=[])"
      ],
      "metadata": {
        "id": "rI-ar0licOkC"
      },
      "execution_count": 10,
      "outputs": []
    },
    {
      "cell_type": "code",
      "source": [
        "prompt = input(\"Esperando o prompt: \")\n",
        "\n",
        "while prompt != \"fim\":\n",
        "  response = chat.send_message(prompt)\n",
        "  print(\"Resposta: \",response.text, \"\\n\")\n",
        "  prompt = input(\"Esperando o prompt: \")"
      ],
      "metadata": {
        "colab": {
          "base_uri": "https://localhost:8080/",
          "height": 295
        },
        "id": "kyn2JNbGc3QZ",
        "outputId": "3faed698-cdaa-47d8-d5cc-2535806379d9"
      },
      "execution_count": 12,
      "outputs": [
        {
          "name": "stdout",
          "output_type": "stream",
          "text": [
            "Esperando o prompt: Qual é a capital do Japão?\n",
            "Resposta:  Tóquio \n",
            "\n",
            "Esperando o prompt: Qual é a comida típica desse país?\n",
            "Resposta:  Sushi \n",
            "\n",
            "Esperando o prompt: E qual é a populão dessa cidade?\n",
            "Resposta:  Cerca de 9 milhões de habitantes \n",
            "\n",
            "Esperando o prompt: qual é a população dessa cidade mesmo?\n",
            "Resposta:  Cerca de 9 milhões de habitantes \n",
            "\n",
            "Esperando o prompt: não seria 37?\n",
            "Resposta:  Não, a população de Tóquio é estimada em cerca de 9 milhões de habitantes, não 37 milhões. \n",
            "\n",
            "Esperando o prompt: fim\n"
          ]
        }
      ]
    },
    {
      "cell_type": "code",
      "source": [
        "chat"
      ],
      "metadata": {
        "colab": {
          "base_uri": "https://localhost:8080/"
        },
        "id": "LZtfnJH-gbT3",
        "outputId": "1985e0eb-29c4-4cda-979e-f29ea90fd71d"
      },
      "execution_count": 13,
      "outputs": [
        {
          "output_type": "execute_result",
          "data": {
            "text/plain": [
              "ChatSession(\n",
              "    model=genai.GenerativeModel(\n",
              "        model_name='models/gemini-1.0-pro',\n",
              "        generation_config={'candidate_count': 1, 'temperature': 0.5},\n",
              "        safety_settings={<HarmCategory.HARM_CATEGORY_HARASSMENT: 7>: <HarmBlockThreshold.BLOCK_NONE: 4>, <HarmCategory.HARM_CATEGORY_HATE_SPEECH: 8>: <HarmBlockThreshold.BLOCK_NONE: 4>, <HarmCategory.HARM_CATEGORY_SEXUALLY_EXPLICIT: 9>: <HarmBlockThreshold.BLOCK_NONE: 4>, <HarmCategory.HARM_CATEGORY_DANGEROUS_CONTENT: 10>: <HarmBlockThreshold.BLOCK_NONE: 4>},\n",
              "        tools=None,\n",
              "        system_instruction=None,\n",
              "    ),\n",
              "    history=[glm.Content({'parts': [{'text': 'Qual é a capital do Japão?'}], 'role': 'user'}), glm.Content({'parts': [{'text': 'Tóquio'}], 'role': 'model'}), glm.Content({'parts': [{'text': 'Qual é a com...a desse país?'}], 'role': 'user'}), glm.Content({'parts': [{'text': 'Sushi'}], 'role': 'model'}), glm.Content({'parts': [{'text': 'E qual é a p...dessa cidade?'}], 'role': 'user'}), glm.Content({'parts': [{'text': 'Cerca de 9 m...de habitantes'}], 'role': 'model'}), glm.Content({'parts': [{'text': 'qual é a pop...cidade mesmo?'}], 'role': 'user'}), glm.Content({'parts': [{'text': 'Cerca de 9 m...de habitantes'}], 'role': 'model'}), glm.Content({'parts': [{'text': 'não seria 37?'}], 'role': 'user'}), glm.Content({'parts': [{'text': 'Não, a popul...o 37 milhões.'}], 'role': 'model'})]\n",
              ")"
            ]
          },
          "metadata": {},
          "execution_count": 13
        }
      ]
    },
    {
      "cell_type": "code",
      "source": [
        "chat.history"
      ],
      "metadata": {
        "colab": {
          "base_uri": "https://localhost:8080/"
        },
        "id": "Eu0qeFQWgpEy",
        "outputId": "b4e5ac17-e92d-4d06-fd41-eb051334c9cb"
      },
      "execution_count": 14,
      "outputs": [
        {
          "output_type": "execute_result",
          "data": {
            "text/plain": [
              "[parts {\n",
              "   text: \"Qual \\303\\251 a capital do Jap\\303\\243o?\"\n",
              " }\n",
              " role: \"user\",\n",
              " parts {\n",
              "   text: \"T\\303\\263quio\"\n",
              " }\n",
              " role: \"model\",\n",
              " parts {\n",
              "   text: \"Qual \\303\\251 a comida t\\303\\255pica desse pa\\303\\255s?\"\n",
              " }\n",
              " role: \"user\",\n",
              " parts {\n",
              "   text: \"Sushi\"\n",
              " }\n",
              " role: \"model\",\n",
              " parts {\n",
              "   text: \"E qual \\303\\251 a popul\\303\\243o dessa cidade?\"\n",
              " }\n",
              " role: \"user\",\n",
              " parts {\n",
              "   text: \"Cerca de 9 milh\\303\\265es de habitantes\"\n",
              " }\n",
              " role: \"model\",\n",
              " parts {\n",
              "   text: \"qual \\303\\251 a popula\\303\\247\\303\\243o dessa cidade mesmo?\"\n",
              " }\n",
              " role: \"user\",\n",
              " parts {\n",
              "   text: \"Cerca de 9 milh\\303\\265es de habitantes\"\n",
              " }\n",
              " role: \"model\",\n",
              " parts {\n",
              "   text: \"n\\303\\243o seria 37?\"\n",
              " }\n",
              " role: \"user\",\n",
              " parts {\n",
              "   text: \"N\\303\\243o, a popula\\303\\247\\303\\243o de T\\303\\263quio \\303\\251 estimada em cerca de 9 milh\\303\\265es de habitantes, n\\303\\243o 37 milh\\303\\265es.\"\n",
              " }\n",
              " role: \"model\"]"
            ]
          },
          "metadata": {},
          "execution_count": 14
        }
      ]
    },
    {
      "cell_type": "code",
      "source": [
        "#Melhorando a visualização\n",
        "#Código disponível em https://ai.google.dev/tutorials/python_quickstart#import_packages\n",
        "import textwrap\n",
        "\n",
        "import google.generativeai as genai\n",
        "\n",
        "from IPython.display import display\n",
        "from IPython.display import Markdown\n",
        "\n",
        "\n",
        "def to_markdown(text):\n",
        "  text = text.replace('•', '  *')\n",
        "  return Markdown(textwrap.indent(text, '> ', predicate=lambda _: True))\n",
        "\n",
        "#Imprimindo o histórico\n",
        "for message in chat.history:\n",
        "  display(to_markdown(f'**{message.role}**: {message.parts[0].text}'))\n",
        "  print('-------------------------------------------')"
      ],
      "metadata": {
        "colab": {
          "base_uri": "https://localhost:8080/",
          "height": 644
        },
        "id": "9T-Sl5fafeJt",
        "outputId": "d202037f-b0dc-4d95-954d-0af67f8e74ec"
      },
      "execution_count": 15,
      "outputs": [
        {
          "output_type": "display_data",
          "data": {
            "text/plain": [
              "<IPython.core.display.Markdown object>"
            ],
            "text/markdown": "> **user**: Qual é a capital do Japão?"
          },
          "metadata": {}
        },
        {
          "output_type": "stream",
          "name": "stdout",
          "text": [
            "-------------------------------------------\n"
          ]
        },
        {
          "output_type": "display_data",
          "data": {
            "text/plain": [
              "<IPython.core.display.Markdown object>"
            ],
            "text/markdown": "> **model**: Tóquio"
          },
          "metadata": {}
        },
        {
          "output_type": "stream",
          "name": "stdout",
          "text": [
            "-------------------------------------------\n"
          ]
        },
        {
          "output_type": "display_data",
          "data": {
            "text/plain": [
              "<IPython.core.display.Markdown object>"
            ],
            "text/markdown": "> **user**: Qual é a comida típica desse país?"
          },
          "metadata": {}
        },
        {
          "output_type": "stream",
          "name": "stdout",
          "text": [
            "-------------------------------------------\n"
          ]
        },
        {
          "output_type": "display_data",
          "data": {
            "text/plain": [
              "<IPython.core.display.Markdown object>"
            ],
            "text/markdown": "> **model**: Sushi"
          },
          "metadata": {}
        },
        {
          "output_type": "stream",
          "name": "stdout",
          "text": [
            "-------------------------------------------\n"
          ]
        },
        {
          "output_type": "display_data",
          "data": {
            "text/plain": [
              "<IPython.core.display.Markdown object>"
            ],
            "text/markdown": "> **user**: E qual é a populão dessa cidade?"
          },
          "metadata": {}
        },
        {
          "output_type": "stream",
          "name": "stdout",
          "text": [
            "-------------------------------------------\n"
          ]
        },
        {
          "output_type": "display_data",
          "data": {
            "text/plain": [
              "<IPython.core.display.Markdown object>"
            ],
            "text/markdown": "> **model**: Cerca de 9 milhões de habitantes"
          },
          "metadata": {}
        },
        {
          "output_type": "stream",
          "name": "stdout",
          "text": [
            "-------------------------------------------\n"
          ]
        },
        {
          "output_type": "display_data",
          "data": {
            "text/plain": [
              "<IPython.core.display.Markdown object>"
            ],
            "text/markdown": "> **user**: qual é a população dessa cidade mesmo?"
          },
          "metadata": {}
        },
        {
          "output_type": "stream",
          "name": "stdout",
          "text": [
            "-------------------------------------------\n"
          ]
        },
        {
          "output_type": "display_data",
          "data": {
            "text/plain": [
              "<IPython.core.display.Markdown object>"
            ],
            "text/markdown": "> **model**: Cerca de 9 milhões de habitantes"
          },
          "metadata": {}
        },
        {
          "output_type": "stream",
          "name": "stdout",
          "text": [
            "-------------------------------------------\n"
          ]
        },
        {
          "output_type": "display_data",
          "data": {
            "text/plain": [
              "<IPython.core.display.Markdown object>"
            ],
            "text/markdown": "> **user**: não seria 37?"
          },
          "metadata": {}
        },
        {
          "output_type": "stream",
          "name": "stdout",
          "text": [
            "-------------------------------------------\n"
          ]
        },
        {
          "output_type": "display_data",
          "data": {
            "text/plain": [
              "<IPython.core.display.Markdown object>"
            ],
            "text/markdown": "> **model**: Não, a população de Tóquio é estimada em cerca de 9 milhões de habitantes, não 37 milhões."
          },
          "metadata": {}
        },
        {
          "output_type": "stream",
          "name": "stdout",
          "text": [
            "-------------------------------------------\n"
          ]
        }
      ]
    }
  ]
}
